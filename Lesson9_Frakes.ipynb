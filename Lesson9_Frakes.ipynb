{
 "cells": [
  {
   "cell_type": "markdown",
   "metadata": {},
   "source": [
    "Include at the top of every notebook."
   ]
  },
  {
   "cell_type": "code",
   "execution_count": 2,
   "metadata": {},
   "outputs": [],
   "source": [
    "import numpy as np\n",
    "from datascience import *\n",
    "%matplotlib inline\n",
    "import matplotlib.pyplot as plots\n",
    "plots.style.use('fivethirtyeight')\n",
    "import warnings\n",
    "warnings.simplefilter(action=\"ignore\", category=FutureWarning)"
   ]
  },
  {
   "cell_type": "markdown",
   "metadata": {},
   "source": [
    "#### 1. Use the tips.csv to do the following."
   ]
  },
  {
   "cell_type": "code",
   "execution_count": 3,
   "metadata": {},
   "outputs": [
    {
     "data": {
      "text/html": [
       "<table border=\"1\" class=\"dataframe\">\n",
       "    <thead>\n",
       "        <tr>\n",
       "            <th>total_bill</th> <th>tip</th> <th>sex</th> <th>smoker</th> <th>day</th> <th>time</th> <th>size</th>\n",
       "        </tr>\n",
       "    </thead>\n",
       "    <tbody>\n",
       "        <tr>\n",
       "            <td>16.99     </td> <td>1.01</td> <td>Female</td> <td>No    </td> <td>Sun </td> <td>Dinner</td> <td>2   </td>\n",
       "        </tr>\n",
       "        <tr>\n",
       "            <td>10.34     </td> <td>1.66</td> <td>Male  </td> <td>No    </td> <td>Sun </td> <td>Dinner</td> <td>3   </td>\n",
       "        </tr>\n",
       "        <tr>\n",
       "            <td>21.01     </td> <td>3.5 </td> <td>Male  </td> <td>No    </td> <td>Sun </td> <td>Dinner</td> <td>3   </td>\n",
       "        </tr>\n",
       "        <tr>\n",
       "            <td>23.68     </td> <td>3.31</td> <td>Male  </td> <td>No    </td> <td>Sun </td> <td>Dinner</td> <td>2   </td>\n",
       "        </tr>\n",
       "        <tr>\n",
       "            <td>24.59     </td> <td>3.61</td> <td>Female</td> <td>No    </td> <td>Sun </td> <td>Dinner</td> <td>4   </td>\n",
       "        </tr>\n",
       "        <tr>\n",
       "            <td>25.29     </td> <td>4.71</td> <td>Male  </td> <td>No    </td> <td>Sun </td> <td>Dinner</td> <td>4   </td>\n",
       "        </tr>\n",
       "        <tr>\n",
       "            <td>8.77      </td> <td>2   </td> <td>Male  </td> <td>No    </td> <td>Sun </td> <td>Dinner</td> <td>2   </td>\n",
       "        </tr>\n",
       "        <tr>\n",
       "            <td>26.88     </td> <td>3.12</td> <td>Male  </td> <td>No    </td> <td>Sun </td> <td>Dinner</td> <td>4   </td>\n",
       "        </tr>\n",
       "        <tr>\n",
       "            <td>15.04     </td> <td>1.96</td> <td>Male  </td> <td>No    </td> <td>Sun </td> <td>Dinner</td> <td>2   </td>\n",
       "        </tr>\n",
       "        <tr>\n",
       "            <td>14.78     </td> <td>3.23</td> <td>Male  </td> <td>No    </td> <td>Sun </td> <td>Dinner</td> <td>2   </td>\n",
       "        </tr>\n",
       "    </tbody>\n",
       "</table>\n",
       "<p>... (234 rows omitted)</p>"
      ],
      "text/plain": [
       "total_bill | tip  | sex    | smoker | day  | time   | size\n",
       "16.99      | 1.01 | Female | No     | Sun  | Dinner | 2\n",
       "10.34      | 1.66 | Male   | No     | Sun  | Dinner | 3\n",
       "21.01      | 3.5  | Male   | No     | Sun  | Dinner | 3\n",
       "23.68      | 3.31 | Male   | No     | Sun  | Dinner | 2\n",
       "24.59      | 3.61 | Female | No     | Sun  | Dinner | 4\n",
       "25.29      | 4.71 | Male   | No     | Sun  | Dinner | 4\n",
       "8.77       | 2    | Male   | No     | Sun  | Dinner | 2\n",
       "26.88      | 3.12 | Male   | No     | Sun  | Dinner | 4\n",
       "15.04      | 1.96 | Male   | No     | Sun  | Dinner | 2\n",
       "14.78      | 3.23 | Male   | No     | Sun  | Dinner | 2\n",
       "... (234 rows omitted)"
      ]
     },
     "execution_count": 3,
     "metadata": {},
     "output_type": "execute_result"
    }
   ],
   "source": [
    "tips = Table.read_table('tips.csv')\n",
    "tips"
   ]
  },
  {
   "cell_type": "markdown",
   "metadata": {},
   "source": [
    "#### a. Find the mean tip broken down by sex."
   ]
  },
  {
   "cell_type": "code",
   "execution_count": 4,
   "metadata": {},
   "outputs": [
    {
     "data": {
      "text/html": [
       "<table border=\"1\" class=\"dataframe\">\n",
       "    <thead>\n",
       "        <tr>\n",
       "            <th>tip</th> <th>sex</th>\n",
       "        </tr>\n",
       "    </thead>\n",
       "    <tbody>\n",
       "        <tr>\n",
       "            <td>1.01</td> <td>Female</td>\n",
       "        </tr>\n",
       "        <tr>\n",
       "            <td>1.66</td> <td>Male  </td>\n",
       "        </tr>\n",
       "        <tr>\n",
       "            <td>3.5 </td> <td>Male  </td>\n",
       "        </tr>\n",
       "        <tr>\n",
       "            <td>3.31</td> <td>Male  </td>\n",
       "        </tr>\n",
       "        <tr>\n",
       "            <td>3.61</td> <td>Female</td>\n",
       "        </tr>\n",
       "        <tr>\n",
       "            <td>4.71</td> <td>Male  </td>\n",
       "        </tr>\n",
       "        <tr>\n",
       "            <td>2   </td> <td>Male  </td>\n",
       "        </tr>\n",
       "        <tr>\n",
       "            <td>3.12</td> <td>Male  </td>\n",
       "        </tr>\n",
       "        <tr>\n",
       "            <td>1.96</td> <td>Male  </td>\n",
       "        </tr>\n",
       "        <tr>\n",
       "            <td>3.23</td> <td>Male  </td>\n",
       "        </tr>\n",
       "    </tbody>\n",
       "</table>\n",
       "<p>... (234 rows omitted)</p>"
      ],
      "text/plain": [
       "tip  | sex\n",
       "1.01 | Female\n",
       "1.66 | Male\n",
       "3.5  | Male\n",
       "3.31 | Male\n",
       "3.61 | Female\n",
       "4.71 | Male\n",
       "2    | Male\n",
       "3.12 | Male\n",
       "1.96 | Male\n",
       "3.23 | Male\n",
       "... (234 rows omitted)"
      ]
     },
     "execution_count": 4,
     "metadata": {},
     "output_type": "execute_result"
    }
   ],
   "source": [
    "GenTips = Table.read_table('tips.csv').select(1,2)\n",
    "GenTips"
   ]
  },
  {
   "cell_type": "markdown",
   "metadata": {},
   "source": [
    "#### Build a histogram of tips for males overlaid by tips for females."
   ]
  },
  {
   "cell_type": "code",
   "execution_count": 5,
   "metadata": {
    "scrolled": false
   },
   "outputs": [
    {
     "name": "stderr",
     "output_type": "stream",
     "text": [
      "C:\\Users\\C20Elizabeth.Frakes\\Documents\\Anaconda\\lib\\site-packages\\matplotlib\\axes\\_axes.py:6462: UserWarning: The 'normed' kwarg is deprecated, and has been replaced by the 'density' kwarg.\n",
      "  warnings.warn(\"The 'normed' kwarg is deprecated, and has been \"\n"
     ]
    },
    {
     "data": {
      "image/png": "[encoded data removed]",
      "text/plain": [
       "<Figure size 432x288 with 1 Axes>"
      ]
     },
     "metadata": {},
     "output_type": "display_data"
    }
   ],
   "source": [
    "GenTips.hist('tip',group='sex',unit='dollars')"
   ]
  },
  {
   "cell_type": "markdown",
   "metadata": {},
   "source": [
    "#### Find the mean tip broken down by sex."
   ]
  },
  {
   "cell_type": "code",
   "execution_count": 6,
   "metadata": {},
   "outputs": [
    {
     "data": {
      "text/html": [
       "<table border=\"1\" class=\"dataframe\">\n",
       "    <thead>\n",
       "        <tr>\n",
       "            <th>sex</th> <th>tip mean</th>\n",
       "        </tr>\n",
       "    </thead>\n",
       "    <tbody>\n",
       "        <tr>\n",
       "            <td>Female</td> <td>2.83345 </td>\n",
       "        </tr>\n",
       "        <tr>\n",
       "            <td>Male  </td> <td>3.08962 </td>\n",
       "        </tr>\n",
       "    </tbody>\n",
       "</table>"
      ],
      "text/plain": [
       "sex    | tip mean\n",
       "Female | 2.83345\n",
       "Male   | 3.08962"
      ]
     },
     "execution_count": 6,
     "metadata": {},
     "output_type": "execute_result"
    }
   ],
   "source": [
    "Group = GenTips.group('sex',np.mean)   \n",
    "Group"
   ]
  },
  {
   "cell_type": "markdown",
   "metadata": {},
   "source": [
    "Discussion: The mean tip for males was higher than mean tip for females."
   ]
  },
  {
   "cell_type": "markdown",
   "metadata": {},
   "source": [
    "#### b. Repeat but broken down in time."
   ]
  },
  {
   "cell_type": "code",
   "execution_count": 7,
   "metadata": {},
   "outputs": [
    {
     "data": {
      "text/html": [
       "<table border=\"1\" class=\"dataframe\">\n",
       "    <thead>\n",
       "        <tr>\n",
       "            <th>time</th> <th>tip mean</th>\n",
       "        </tr>\n",
       "    </thead>\n",
       "    <tbody>\n",
       "        <tr>\n",
       "            <td>Dinner</td> <td>3.10267 </td>\n",
       "        </tr>\n",
       "        <tr>\n",
       "            <td>Lunch </td> <td>2.72809 </td>\n",
       "        </tr>\n",
       "    </tbody>\n",
       "</table>"
      ],
      "text/plain": [
       "time   | tip mean\n",
       "Dinner | 3.10267\n",
       "Lunch  | 2.72809"
      ]
     },
     "execution_count": 7,
     "metadata": {},
     "output_type": "execute_result"
    }
   ],
   "source": [
    "TimeTips = Table.read_table('tips.csv').select(1,5)\n",
    "Time = TimeTips.group('time',np.mean)\n",
    "Time"
   ]
  },
  {
   "cell_type": "code",
   "execution_count": 8,
   "metadata": {},
   "outputs": [
    {
     "name": "stderr",
     "output_type": "stream",
     "text": [
      "C:\\Users\\C20Elizabeth.Frakes\\Documents\\Anaconda\\lib\\site-packages\\matplotlib\\axes\\_axes.py:6462: UserWarning: The 'normed' kwarg is deprecated, and has been replaced by the 'density' kwarg.\n",
      "  warnings.warn(\"The 'normed' kwarg is deprecated, and has been \"\n"
     ]
    },
    {
     "data": {
      "image/png": "[encoded data removed]",
      "text/plain": [
       "<Figure size 432x288 with 1 Axes>"
      ]
     },
     "metadata": {},
     "output_type": "display_data"
    }
   ],
   "source": [
    "TimeTips.hist('tip',group='time',unit='dollars')"
   ]
  },
  {
   "cell_type": "markdown",
   "metadata": {},
   "source": [
    "Discussion: The mean tip for dinner was higher than mean tip at lunch."
   ]
  },
  {
   "cell_type": "markdown",
   "metadata": {},
   "source": [
    "#### 2. Create function denoting day of the week."
   ]
  },
  {
   "cell_type": "code",
   "execution_count": 9,
   "metadata": {},
   "outputs": [],
   "source": [
    "def weekday_to_num(weekday):\n",
    "    \"\"\"Returns number for day of the week.\"\"\"\n",
    "    \n",
    "    if weekday == 'Mon':\n",
    "        return 1\n",
    "    if weekday == 'Tues':\n",
    "        return 2\n",
    "    if weekday == 'Wed':\n",
    "        return 3\n",
    "    if weekday == 'Thur':\n",
    "        return 4\n",
    "    if weekday == 'Fri':\n",
    "        return 5\n",
    "    if weekday == 'Sat':\n",
    "        return 6\n",
    "    if weekday == 'Sun':\n",
    "        return 7"
   ]
  },
  {
   "cell_type": "code",
   "execution_count": 10,
   "metadata": {},
   "outputs": [
    {
     "data": {
      "text/plain": [
       "7"
      ]
     },
     "execution_count": 10,
     "metadata": {},
     "output_type": "execute_result"
    }
   ],
   "source": [
    "weekday_to_num('Sun')"
   ]
  },
  {
   "cell_type": "markdown",
   "metadata": {},
   "source": [
    "#### 3. Apply weekday_to_num to the days column of tips.csv."
   ]
  },
  {
   "cell_type": "code",
   "execution_count": 11,
   "metadata": {},
   "outputs": [
    {
     "data": {
      "text/html": [
       "<table border=\"1\" class=\"dataframe\">\n",
       "    <thead>\n",
       "        <tr>\n",
       "            <th>total_bill</th> <th>tip</th> <th>sex</th> <th>smoker</th> <th>day</th> <th>time</th> <th>size</th> <th>weekday_to_num</th>\n",
       "        </tr>\n",
       "    </thead>\n",
       "    <tbody>\n",
       "        <tr>\n",
       "            <td>16.99     </td> <td>1.01</td> <td>Female</td> <td>No    </td> <td>Sun </td> <td>Dinner</td> <td>2   </td> <td>7             </td>\n",
       "        </tr>\n",
       "        <tr>\n",
       "            <td>10.34     </td> <td>1.66</td> <td>Male  </td> <td>No    </td> <td>Sun </td> <td>Dinner</td> <td>3   </td> <td>7             </td>\n",
       "        </tr>\n",
       "        <tr>\n",
       "            <td>21.01     </td> <td>3.5 </td> <td>Male  </td> <td>No    </td> <td>Sun </td> <td>Dinner</td> <td>3   </td> <td>7             </td>\n",
       "        </tr>\n",
       "        <tr>\n",
       "            <td>23.68     </td> <td>3.31</td> <td>Male  </td> <td>No    </td> <td>Sun </td> <td>Dinner</td> <td>2   </td> <td>7             </td>\n",
       "        </tr>\n",
       "        <tr>\n",
       "            <td>24.59     </td> <td>3.61</td> <td>Female</td> <td>No    </td> <td>Sun </td> <td>Dinner</td> <td>4   </td> <td>7             </td>\n",
       "        </tr>\n",
       "        <tr>\n",
       "            <td>25.29     </td> <td>4.71</td> <td>Male  </td> <td>No    </td> <td>Sun </td> <td>Dinner</td> <td>4   </td> <td>7             </td>\n",
       "        </tr>\n",
       "        <tr>\n",
       "            <td>8.77      </td> <td>2   </td> <td>Male  </td> <td>No    </td> <td>Sun </td> <td>Dinner</td> <td>2   </td> <td>7             </td>\n",
       "        </tr>\n",
       "        <tr>\n",
       "            <td>26.88     </td> <td>3.12</td> <td>Male  </td> <td>No    </td> <td>Sun </td> <td>Dinner</td> <td>4   </td> <td>7             </td>\n",
       "        </tr>\n",
       "        <tr>\n",
       "            <td>15.04     </td> <td>1.96</td> <td>Male  </td> <td>No    </td> <td>Sun </td> <td>Dinner</td> <td>2   </td> <td>7             </td>\n",
       "        </tr>\n",
       "        <tr>\n",
       "            <td>14.78     </td> <td>3.23</td> <td>Male  </td> <td>No    </td> <td>Sun </td> <td>Dinner</td> <td>2   </td> <td>7             </td>\n",
       "        </tr>\n",
       "    </tbody>\n",
       "</table>\n",
       "<p>... (234 rows omitted)</p>"
      ],
      "text/plain": [
       "total_bill | tip  | sex    | smoker | day  | time   | size | weekday_to_num\n",
       "16.99      | 1.01 | Female | No     | Sun  | Dinner | 2    | 7\n",
       "10.34      | 1.66 | Male   | No     | Sun  | Dinner | 3    | 7\n",
       "21.01      | 3.5  | Male   | No     | Sun  | Dinner | 3    | 7\n",
       "23.68      | 3.31 | Male   | No     | Sun  | Dinner | 2    | 7\n",
       "24.59      | 3.61 | Female | No     | Sun  | Dinner | 4    | 7\n",
       "25.29      | 4.71 | Male   | No     | Sun  | Dinner | 4    | 7\n",
       "8.77       | 2    | Male   | No     | Sun  | Dinner | 2    | 7\n",
       "26.88      | 3.12 | Male   | No     | Sun  | Dinner | 4    | 7\n",
       "15.04      | 1.96 | Male   | No     | Sun  | Dinner | 2    | 7\n",
       "14.78      | 3.23 | Male   | No     | Sun  | Dinner | 2    | 7\n",
       "... (234 rows omitted)"
      ]
     },
     "execution_count": 11,
     "metadata": {},
     "output_type": "execute_result"
    }
   ],
   "source": [
    "weekday_num = tips.apply(weekday_to_num, 'day')\n",
    "tips.with_column('weekday_to_num', weekday_num)"
   ]
  },
  {
   "cell_type": "markdown",
   "metadata": {},
   "source": [
    "#### 4. Create a function called est_tip."
   ]
  },
  {
   "cell_type": "code",
   "execution_count": 12,
   "metadata": {},
   "outputs": [],
   "source": [
    "def est_tip(total_bill,nearby=1):\n",
    "    \"\"\"This funciton predicts the tip based on the total bill.\"\"\"\n",
    "    nearby = tips.where('total_bill', are.between(total_bill-nearby,total_bill+nearby))\n",
    "    return nearby.column('tip').mean()"
   ]
  },
  {
   "cell_type": "code",
   "execution_count": 13,
   "metadata": {},
   "outputs": [
    {
     "data": {
      "text/plain": [
       "1.821578947368421"
      ]
     },
     "execution_count": 13,
     "metadata": {},
     "output_type": "execute_result"
    }
   ],
   "source": [
    "est_tip(10) #This is a test."
   ]
  },
  {
   "cell_type": "markdown",
   "metadata": {},
   "source": [
    "#### 5. Apply est_tip function to the total_bill. Make Scatterplot."
   ]
  },
  {
   "cell_type": "code",
   "execution_count": 14,
   "metadata": {},
   "outputs": [
    {
     "data": {
      "text/html": [
       "<table border=\"1\" class=\"dataframe\">\n",
       "    <thead>\n",
       "        <tr>\n",
       "            <th>total_bill</th> <th>tip</th> <th>sex</th> <th>smoker</th> <th>day</th> <th>time</th> <th>size</th> <th>estimated_tip</th>\n",
       "        </tr>\n",
       "    </thead>\n",
       "    <tbody>\n",
       "        <tr>\n",
       "            <td>16.99     </td> <td>1.01</td> <td>Female</td> <td>No    </td> <td>Sun </td> <td>Dinner</td> <td>2   </td> <td>2.82437      </td>\n",
       "        </tr>\n",
       "        <tr>\n",
       "            <td>10.34     </td> <td>1.66</td> <td>Male  </td> <td>No    </td> <td>Sun </td> <td>Dinner</td> <td>3   </td> <td>1.81136      </td>\n",
       "        </tr>\n",
       "        <tr>\n",
       "            <td>21.01     </td> <td>3.5 </td> <td>Male  </td> <td>No    </td> <td>Sun </td> <td>Dinner</td> <td>3   </td> <td>3.3425       </td>\n",
       "        </tr>\n",
       "        <tr>\n",
       "            <td>23.68     </td> <td>3.31</td> <td>Male  </td> <td>No    </td> <td>Sun </td> <td>Dinner</td> <td>2   </td> <td>3.33867      </td>\n",
       "        </tr>\n",
       "        <tr>\n",
       "            <td>24.59     </td> <td>3.61</td> <td>Female</td> <td>No    </td> <td>Sun </td> <td>Dinner</td> <td>4   </td> <td>3.56267      </td>\n",
       "        </tr>\n",
       "        <tr>\n",
       "            <td>25.29     </td> <td>4.71</td> <td>Male  </td> <td>No    </td> <td>Sun </td> <td>Dinner</td> <td>4   </td> <td>4.19909      </td>\n",
       "        </tr>\n",
       "        <tr>\n",
       "            <td>8.77      </td> <td>2   </td> <td>Male  </td> <td>No    </td> <td>Sun </td> <td>Dinner</td> <td>2   </td> <td>1.865        </td>\n",
       "        </tr>\n",
       "        <tr>\n",
       "            <td>26.88     </td> <td>3.12</td> <td>Male  </td> <td>No    </td> <td>Sun </td> <td>Dinner</td> <td>4   </td> <td>3.48111      </td>\n",
       "        </tr>\n",
       "        <tr>\n",
       "            <td>15.04     </td> <td>1.96</td> <td>Male  </td> <td>No    </td> <td>Sun </td> <td>Dinner</td> <td>2   </td> <td>2.426        </td>\n",
       "        </tr>\n",
       "        <tr>\n",
       "            <td>14.78     </td> <td>3.23</td> <td>Male  </td> <td>No    </td> <td>Sun </td> <td>Dinner</td> <td>2   </td> <td>2.43833      </td>\n",
       "        </tr>\n",
       "    </tbody>\n",
       "</table>\n",
       "<p>... (234 rows omitted)</p>"
      ],
      "text/plain": [
       "total_bill | tip  | sex    | smoker | day  | time   | size | estimated_tip\n",
       "16.99      | 1.01 | Female | No     | Sun  | Dinner | 2    | 2.82437\n",
       "10.34      | 1.66 | Male   | No     | Sun  | Dinner | 3    | 1.81136\n",
       "21.01      | 3.5  | Male   | No     | Sun  | Dinner | 3    | 3.3425\n",
       "23.68      | 3.31 | Male   | No     | Sun  | Dinner | 2    | 3.33867\n",
       "24.59      | 3.61 | Female | No     | Sun  | Dinner | 4    | 3.56267\n",
       "25.29      | 4.71 | Male   | No     | Sun  | Dinner | 4    | 4.19909\n",
       "8.77       | 2    | Male   | No     | Sun  | Dinner | 2    | 1.865\n",
       "26.88      | 3.12 | Male   | No     | Sun  | Dinner | 4    | 3.48111\n",
       "15.04      | 1.96 | Male   | No     | Sun  | Dinner | 2    | 2.426\n",
       "14.78      | 3.23 | Male   | No     | Sun  | Dinner | 2    | 2.43833\n",
       "... (234 rows omitted)"
      ]
     },
     "execution_count": 14,
     "metadata": {},
     "output_type": "execute_result"
    }
   ],
   "source": [
    "est_tips = tips.apply(est_tip,'total_bill')\n",
    "tips.with_column('estimated_tip',est_tips)"
   ]
  },
  {
   "cell_type": "code",
   "execution_count": 15,
   "metadata": {},
   "outputs": [
    {
     "data": {
      "image/png": "[encoded data removed]",
      "text/plain": [
       "<Figure size 360x360 with 1 Axes>"
      ]
     },
     "metadata": {},
     "output_type": "display_data"
    }
   ],
   "source": [
    "tips.with_column('estimated_tip',est_tips).select('total_bill','tip','estimated_tip').scatter('total_bill')"
   ]
  }
 ],
 "metadata": {
  "kernelspec": {
   "display_name": "Python 3",
   "language": "python",
   "name": "python3"
  },
  "language_info": {
   "codemirror_mode": {
    "name": "ipython",
    "version": 3
   },
   "file_extension": ".py",
   "mimetype": "text/x-python",
   "name": "python",
   "nbconvert_exporter": "python",
   "pygments_lexer": "ipython3",
   "version": "3.6.5"
  }
 },
 "nbformat": 4,
 "nbformat_minor": 2
}
