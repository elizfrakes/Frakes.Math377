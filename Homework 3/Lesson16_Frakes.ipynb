{
 "cells": [
  {
   "cell_type": "code",
   "execution_count": 1,
   "metadata": {},
   "outputs": [],
   "source": [
    "from datascience import *\n",
    "import numpy as np\n",
    "from math import *"
   ]
  },
  {
   "cell_type": "markdown",
   "metadata": {},
   "source": [
    "## Joint Distributions"
   ]
  },
  {
   "cell_type": "markdown",
   "metadata": {},
   "source": [
    "Recall from Lessons 13 & 14: let $X$ be a random variable. $X$ has a distribution that is described by a probability mass function (pmf) or probability density function (pdf). \n",
    "\n",
    "We can consider multiple random variables simultaneously using joint distributions. \n",
    "\n",
    "NOTE: When answering the questions below, you are not required to use Python. If you would like to answer in Markdown, feel free to change the type of the cell, or to use both types of cells. "
   ]
  },
  {
   "cell_type": "markdown",
   "metadata": {},
   "source": [
    "#### Example 1: Discrete Joint Distribution"
   ]
  },
  {
   "cell_type": "markdown",
   "metadata": {},
   "source": [
    "Let $X$ and $Y$ be discrete random variables that can each only take the values 1, 2 or 3, and do so according to the following distribution:"
   ]
  },
  {
   "cell_type": "markdown",
   "metadata": {},
   "source": [
    "\n",
    " |  | $X$  | 1 | 2 | 3 |\n",
    " |-- | ------ | ------ |\n",
    " |  | 1 | 0.17 | 0.15 | 0.08 |\n",
    " | $Y$ | 2 | 0.00 | 0.10 | 0.10 |\n",
    " |  | 3 | 0.08 | 0.20 | 0.12 |\n",
    " \n"
   ]
  },
  {
   "cell_type": "markdown",
   "metadata": {},
   "source": [
    "This is an example of a joint probability mass function (joint pmf), and is denoted as $f_{X,Y}(x,y)$. \n",
    "\n",
    "For example, the probability that $X$ takes the value 1 AND $Y$ takes the value 3, or $P(X=1,Y=3)$ is equal to 0.08. "
   ]
  },
  {
   "cell_type": "markdown",
   "metadata": {},
   "source": [
    "**_1.1_** Find $P(X = 2,Y=3)$. \n",
    "\n",
    "**_1.2_** Find $E(X+Y)$. "
   ]
  },
  {
   "cell_type": "code",
   "execution_count": 2,
   "metadata": {},
   "outputs": [
    {
     "name": "stdout",
     "output_type": "stream",
     "text": [
      "The probability that X=2 and Y=3 is 0.20.\n"
     ]
    }
   ],
   "source": [
    "#Answer 1.1\n",
    "print('The probability that X=2 and Y=3 is 0.20.')"
   ]
  },
  {
   "cell_type": "code",
   "execution_count": 2,
   "metadata": {},
   "outputs": [
    {
     "name": "stdout",
     "output_type": "stream",
     "text": [
      "The expectant value of X+Y is 4.05\n"
     ]
    }
   ],
   "source": [
    "#Answer 1.2\n",
    "E_XY = (2*.17)+(3*.15)+(4*(.08+.1+.08))+(5*(.2+.1))+(6*.12)\n",
    "print('The expectant value of X+Y is',E_XY)"
   ]
  },
  {
   "cell_type": "markdown",
   "metadata": {},
   "source": [
    "### Marginal Probability"
   ]
  },
  {
   "cell_type": "markdown",
   "metadata": {},
   "source": [
    "When given a joint pmf like this, we may want to know the distribution of $X$ or $Y$ individually. Specifically, we might want to know $P(X=1)$ or $f_Y(y)$. \n",
    "\n",
    "Marginal probability can be found by summing across the remaining variable. Specifically,\n",
    "\n",
    "$$\n",
    "f_X(x)=\\sum_y f_{X,Y}(x,y)\n",
    "$$\n",
    "and \n",
    "$$\n",
    "f_Y(y)=\\sum_x f_{X,Y}(x,y)\n",
    "$$\n"
   ]
  },
  {
   "cell_type": "markdown",
   "metadata": {},
   "source": [
    "**_1.3_** Find $P(X=2)$. \n",
    "\n",
    "**_1.4_** Find $f_Y(y)$ (the marginal pmf of $Y$). \n",
    "\n",
    "**_1.5_** Find $E(Y)$ and $V(Y)$. "
   ]
  },
  {
   "cell_type": "code",
   "execution_count": 4,
   "metadata": {},
   "outputs": [
    {
     "name": "stdout",
     "output_type": "stream",
     "text": [
      "The probability that X=2 is 0.45\n"
     ]
    }
   ],
   "source": [
    "#Answer 1.3\n",
    "print('The probability that X=2 is',.15+.1+.2)"
   ]
  },
  {
   "cell_type": "code",
   "execution_count": 5,
   "metadata": {
    "scrolled": true
   },
   "outputs": [
    {
     "data": {
      "text/html": [
       "<table border=\"1\" class=\"dataframe\">\n",
       "    <thead>\n",
       "        <tr>\n",
       "            <th>Y</th> <th>fy(y)</th>\n",
       "        </tr>\n",
       "    </thead>\n",
       "    <tbody>\n",
       "        <tr>\n",
       "            <td>1   </td> <td>0.4  </td>\n",
       "        </tr>\n",
       "        <tr>\n",
       "            <td>2   </td> <td>0.2  </td>\n",
       "        </tr>\n",
       "        <tr>\n",
       "            <td>3   </td> <td>0.4  </td>\n",
       "        </tr>\n",
       "    </tbody>\n",
       "</table>"
      ],
      "text/plain": [
       "Y    | fy(y)\n",
       "1    | 0.4\n",
       "2    | 0.2\n",
       "3    | 0.4"
      ]
     },
     "execution_count": 5,
     "metadata": {},
     "output_type": "execute_result"
    }
   ],
   "source": [
    "#Answer 1.4\n",
    "marginal =Table().with_column('Y',make_array(1,2,3)).with_column('fy(y)',make_array(0.17+0.15+0.08, 0.00+0.10+0.10, 0.08+0.20+0.12))\n",
    "marginal"
   ]
  },
  {
   "cell_type": "code",
   "execution_count": 6,
   "metadata": {},
   "outputs": [
    {
     "name": "stdout",
     "output_type": "stream",
     "text": [
      "The expected value of Y is  2.0\n",
      "The variance value of Y is 0.8\n"
     ]
    }
   ],
   "source": [
    "#Answer 1.5\n",
    "Exp = sum(marginal.column(0)*marginal.column(1))\n",
    "VarY = (((marginal.column(0)-Exp)**2)*marginal.column(1)).sum()\n",
    "\n",
    "print('The expected value of Y is ', Exp)\n",
    "print('The variance value of Y is', VarY)"
   ]
  },
  {
   "cell_type": "markdown",
   "metadata": {},
   "source": [
    "### Conditional Probability\n",
    "\n",
    "We may be interested in the probability $X$ takes a specific value conditioned on the value of $Y$. Recall that conditional probability is given by $P(A|B)=\\frac{P(A,B)}{P(B)}$. \n",
    "\n",
    "So, essentially, conditional probability can be found by dividing the joint probability by the appropriate marginal probability. "
   ]
  },
  {
   "cell_type": "markdown",
   "metadata": {},
   "source": [
    "**_1.6_** Find $P(Y=1|X=3)$. \n",
    "\n",
    "**_1.7_** Find $f_{X|Y=2}(x)$, the conditional pmf of $X$, given $Y=2$. \n",
    "\n",
    "**_1.8_** Find $E(X|Y=2)$ and $V(X|Y=2)$. "
   ]
  },
  {
   "cell_type": "code",
   "execution_count": 7,
   "metadata": {
    "scrolled": true
   },
   "outputs": [
    {
     "name": "stdout",
     "output_type": "stream",
     "text": [
      "The probability that Y=1 given that X=3 is 0.26666666666666666\n"
     ]
    }
   ],
   "source": [
    "#Answer 1.6\n",
    "print('The probability that Y=1 given that X=3 is',.08/(.3))"
   ]
  },
  {
   "cell_type": "code",
   "execution_count": 8,
   "metadata": {},
   "outputs": [
    {
     "data": {
      "text/html": [
       "<table border=\"1\" class=\"dataframe\">\n",
       "    <thead>\n",
       "        <tr>\n",
       "            <th>X</th> <th>fx|y=2(x)</th>\n",
       "        </tr>\n",
       "    </thead>\n",
       "    <tbody>\n",
       "        <tr>\n",
       "            <td>1   </td> <td>0        </td>\n",
       "        </tr>\n",
       "        <tr>\n",
       "            <td>2   </td> <td>0.5      </td>\n",
       "        </tr>\n",
       "        <tr>\n",
       "            <td>3   </td> <td>0.5      </td>\n",
       "        </tr>\n",
       "    </tbody>\n",
       "</table>"
      ],
      "text/plain": [
       "X    | fx|y=2(x)\n",
       "1    | 0\n",
       "2    | 0.5\n",
       "3    | 0.5"
      ]
     },
     "execution_count": 8,
     "metadata": {},
     "output_type": "execute_result"
    }
   ],
   "source": [
    "#Answer 1.7\n",
    "conditional = Table().with_column('X',make_array(1,2,3)).with_column('fx|y=2(x)',make_array(0,.5,.5))\n",
    "conditional"
   ]
  },
  {
   "cell_type": "code",
   "execution_count": 9,
   "metadata": {},
   "outputs": [
    {
     "name": "stdout",
     "output_type": "stream",
     "text": [
      "The expected value of X is 2.5\n",
      "The variance value of X is 0.25\n"
     ]
    }
   ],
   "source": [
    "#Answer 1.8\n",
    "Exp = sum(conditional.column(0)*conditional.column(1))\n",
    "VarX = ((conditional.column(0)-Exp)**2*conditional.column(1)).sum()\n",
    "\n",
    "print('The expected value of X is', Exp)\n",
    "print('The variance value of X is', VarX)"
   ]
  },
  {
   "cell_type": "markdown",
   "metadata": {},
   "source": [
    "**_1.9_** Are $X$ and $Y$ independent? Why or why not? "
   ]
  },
  {
   "cell_type": "markdown",
   "metadata": {},
   "source": [
    "##### No, they are not independant because the values of X change with the values of Y.\n",
    "##### Example: Probability of X=1 is .25 but the Probability of X=1 given Y=1 is .405"
   ]
  },
  {
   "cell_type": "markdown",
   "metadata": {},
   "source": [
    "### Covariance and Correlation\n",
    "\n",
    "Expected value and variance help us characterize $X$ and $Y$ marginally and conditionally, but we may also be interested in measuring the relationship between $X$ and $Y$. For this, we use *covariance*. \n",
    "\n",
    "$$\n",
    "Cov(X,Y)=E[(X-E(X))(Y-E(Y))] = E(XY)-E(X)E(Y)\n",
    "$$\n",
    "\n",
    "Note that if $X$ and $Y$ are independent, $Cov(X,Y) =0$. The converse is NOT necessarily true. \n",
    "\n",
    "Covariance is dependent on the scales of $X$ and $Y$, so if the two variables are of vastly different scale, we'll want to use covariance's unitless counterpart, correlation, denoted by $\\rho$. \n",
    "\n",
    "$$\n",
    "\\rho = \\frac{Cov(X,Y)}{\\sqrt{Var(X)Var(Y)}}\n",
    "$$\n",
    "\n",
    "$\\rho$ is bounded by the interval $[-1,1]$. When $\\rho=1$, $X$ and $Y$ are perfectly positively correlated. Similarly, when $\\rho=-1$, $X$ and $Y$ are perfectly negatively correlated. "
   ]
  },
  {
   "cell_type": "markdown",
   "metadata": {},
   "source": [
    "**_1.10_** Find $Cov(X,Y)$\n",
    "\n",
    "**_1.11_** Find $Corr(X,Y)$, or $\\rho$. "
   ]
  },
  {
   "cell_type": "code",
   "execution_count": 4,
   "metadata": {},
   "outputs": [
    {
     "name": "stdout",
     "output_type": "stream",
     "text": [
      "Cov(X,Y)= 0.13000000000000078\n"
     ]
    }
   ],
   "source": [
    "#Answer 1.10\n",
    "EX=1*(.17+.08)+2*(.15+.1+.2)+3*(.08+.1+.12)\n",
    "EY=1*(.17+.15+.08)+2*(0+.1+.1)+3*(.08+.2+.12)\n",
    "EXY=1*.17+2*(0+.15)+3*(.08+.08)+4*.1+6*(.3)+9*.12\n",
    "\n",
    "CovXY=EXY-EX*EY\n",
    "print('Cov(X,Y)=',CovXY)"
   ]
  },
  {
   "cell_type": "code",
   "execution_count": 5,
   "metadata": {},
   "outputs": [
    {
     "name": "stdout",
     "output_type": "stream",
     "text": [
      "Corr(X,Y) or rho = 0.1964293126950385\n"
     ]
    }
   ],
   "source": [
    "#Answer 1.11\n",
    "Varx = (1-EX)**2*(.25) + (2-EX)**2*(.45) + (3-EX)**2*(.3)\n",
    "Vary = (1-EY)**2*(.4) + (2-EY)**2*(.2) + (3-EY)**2*(.4)\n",
    "\n",
    "rho = CovXY/((Varx*Vary)**.5)\n",
    "print('Corr(X,Y) or rho =',rho)"
   ]
  },
  {
   "cell_type": "markdown",
   "metadata": {},
   "source": [
    "In problem 1.2, we found $E(X+Y)$. In order to find $Var(X+Y)$, we need to know how $X$ and $Y$ are correlated: \n",
    "\n",
    "$$\n",
    "Var(X+Y)= Var(X)+Var(Y)+2*Cov(X,Y)\n",
    "$$"
   ]
  },
  {
   "cell_type": "markdown",
   "metadata": {},
   "source": [
    "**_1.12_** Find $Var(X+Y)$. "
   ]
  },
  {
   "cell_type": "code",
   "execution_count": 6,
   "metadata": {
    "scrolled": true
   },
   "outputs": [
    {
     "name": "stdout",
     "output_type": "stream",
     "text": [
      "Var(X+Y)= 1.6075000000000017\n"
     ]
    }
   ],
   "source": [
    "#Answer 1.12\n",
    "VarPlus = Varx +Vary + 2*CovXY\n",
    "print('Var(X+Y)=',VarPlus)"
   ]
  },
  {
   "cell_type": "markdown",
   "metadata": {},
   "source": [
    "#### Example 2: Continuous Joint Distribution\n",
    "\n",
    "All of the concepts above apply to continuous random variables. Consider continuous random variables $X$ and $Y$ with the following joint pdf:\n",
    "\n",
    "$$\n",
    "f_{X,Y}(x,y)=k(x+y)\n",
    "$$\n",
    "\n",
    "where both $x$ and $y$ are bounded by the interval $[0,1]$. "
   ]
  },
  {
   "cell_type": "markdown",
   "metadata": {},
   "source": [
    "**_2.1_** Find the value of $k$ that makes $f$ a valid joint pdf. "
   ]
  },
  {
   "cell_type": "markdown",
   "metadata": {},
   "source": [
    "##### The value of k that makes f a valid joint pdf is 1 because the double integral with respect to x and y of this function is k and one of the conditions is that for any continuous joint distribution the double integral of the function or volume must be equal to 1."
   ]
  },
  {
   "cell_type": "markdown",
   "metadata": {},
   "source": [
    "**_2.2_** Find $P(X<0.5,Y<0.5)$"
   ]
  },
  {
   "cell_type": "code",
   "execution_count": 7,
   "metadata": {},
   "outputs": [
    {
     "name": "stdout",
     "output_type": "stream",
     "text": [
      "0.125 is the probability that X and Y are less than .5\n"
     ]
    }
   ],
   "source": [
    "#Answer 2.2\n",
    "import scipy\n",
    "import numpy as np\n",
    "k=1\n",
    "probptf = scipy.integrate.dblquad(lambda x, y: k*(x+y), 0, .5, lambda x: 0, lambda x:.5)[0]\n",
    "print(probptf, 'is the probability that X and Y are less than .5')"
   ]
  },
  {
   "cell_type": "markdown",
   "metadata": {},
   "source": [
    "**_2.3_** Find $f_X(x)$ and $f_Y(y)$, the marginal pdfs of $X$ and $Y$. \n",
    "\n",
    "**_2.4_** Find $E(X)$ and $E(Y)$. "
   ]
  },
  {
   "cell_type": "code",
   "execution_count": 8,
   "metadata": {},
   "outputs": [],
   "source": [
    "#Answer 2.3\n",
    "def fX(x):\n",
    "    \"\"\"Marginal PDF of X\"\"\"\n",
    "    return x+.5\n",
    "def fY(y): \n",
    "    \"\"\"Marginal PDF of Y\"\"\"\n",
    "    return y+.5"
   ]
  },
  {
   "cell_type": "code",
   "execution_count": 9,
   "metadata": {},
   "outputs": [
    {
     "name": "stdout",
     "output_type": "stream",
     "text": [
      "E(X)= 0.5833333333333333\n",
      "E(Y)= 0.5833333333333333\n"
     ]
    }
   ],
   "source": [
    "#Answer 2.4\n",
    "E_X = scipy.integrate.dblquad(lambda x, y: k*(x+y)*x, 0, 1, lambda x: 0, lambda x:1)[0]\n",
    "print('E(X)=',E_X)\n",
    "E_Y = scipy.integrate.dblquad(lambda x, y: k*(x+y)*y, 0, 1, lambda x: 0, lambda x:1)[0]\n",
    "print('E(Y)=',E_Y)"
   ]
  },
  {
   "cell_type": "markdown",
   "metadata": {},
   "source": [
    "**_2.5_** Find $P(X>0.5\\vert Y\\leq 0.5)$. "
   ]
  },
  {
   "cell_type": "code",
   "execution_count": 10,
   "metadata": {},
   "outputs": [
    {
     "name": "stdout",
     "output_type": "stream",
     "text": [
      "The probability that X > .5 given that Y <= .5 is 0.6666666666666666\n"
     ]
    }
   ],
   "source": [
    "#Answer 2.5\n",
    "ProbX = scipy.integrate.quad(lambda y: k*(y+.5), 0, .5)[0]\n",
    "ProbTot = scipy.integrate.dblquad(lambda x, y: k*(x+y), 0, .5, lambda x: .5, lambda x:1)[0]\n",
    "\n",
    "print('The probability that X > .5 given that Y <= .5 is',\n",
    "     ProbTot/ProbX)"
   ]
  },
  {
   "cell_type": "markdown",
   "metadata": {},
   "source": [
    "**_2.6_** Find the conditional distributions of $X|Y$ and $Y|X$. Recall that conditional distributions can be found by dividing the joint pdf by the relevant marginal pdf. \n",
    "\n",
    "**_2.7_** Find $E(X|Y)$ and $E(Y|X)$."
   ]
  },
  {
   "cell_type": "markdown",
   "metadata": {},
   "source": [
    "###### Answer 2.6\n",
    "\n",
    "$f_{X|Y}(x)=\\frac{(x+y)}{(.5+y)}$\n",
    "\n",
    "$f_{Y|X}(y)=\\frac{(x+y)}{(.5+x)}$"
   ]
  },
  {
   "cell_type": "markdown",
   "metadata": {
    "scrolled": true
   },
   "source": [
    "###### Answer 2.7\n",
    "\n",
    "$E(X|Y) = integral(x(f_{X|Y}(x)))=\\frac{(.333+\\frac{y}{2})}{(y+.5)}$\n",
    "\n",
    "$E(Y|X) = integral(y(f_{Y|X}(y)))=\\frac{(.333+\\frac{x}{2})}{(x+.5)}$"
   ]
  },
  {
   "cell_type": "markdown",
   "metadata": {},
   "source": [
    "**_2.8_** Are $X$ and $Y$ independent? "
   ]
  },
  {
   "cell_type": "markdown",
   "metadata": {},
   "source": [
    "##### No, The expected value of X is different than the expected value of X given a Y value."
   ]
  },
  {
   "cell_type": "markdown",
   "metadata": {},
   "source": [
    "**_2.9_** What is $Cov(X,Y)$? "
   ]
  },
  {
   "cell_type": "code",
   "execution_count": 11,
   "metadata": {},
   "outputs": [
    {
     "name": "stdout",
     "output_type": "stream",
     "text": [
      "Cov(X,Y)= -0.006944444444444253\n"
     ]
    }
   ],
   "source": [
    "#Answer 2.9\n",
    "E_XY=scipy.integrate.dblquad(lambda x, y:x*y*(x+y), 0, 1, lambda x: 0, lambda x: 1)[0]\n",
    "\n",
    "CovXY=E_XY-E_X*E_Y\n",
    "print('Cov(X,Y)=',CovXY)"
   ]
  }
 ],
 "metadata": {
  "kernelspec": {
   "display_name": "Python 3",
   "language": "python",
   "name": "python3"
  },
  "language_info": {
   "codemirror_mode": {
    "name": "ipython",
    "version": 3
   },
   "file_extension": ".py",
   "mimetype": "text/x-python",
   "name": "python",
   "nbconvert_exporter": "python",
   "pygments_lexer": "ipython3",
   "version": "3.6.5"
  }
 },
 "nbformat": 4,
 "nbformat_minor": 2
}
